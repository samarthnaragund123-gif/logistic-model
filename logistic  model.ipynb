{
 "cells": [
  {
   "cell_type": "code",
   "execution_count": null,
   "id": "f0bbef7a",
   "metadata": {},
   "outputs": [],
   "source": [
    "import pandas as pd\n",
    "import numpy as np\n",
    "import matplotlib.pyplot as plt\n",
    "import seaborn as sns\n",
    "import sklearn"
   ]
  },
  {
   "cell_type": "code",
   "execution_count": null,
   "id": "cd922874",
   "metadata": {},
   "outputs": [],
   "source": [
    "df=pd.read_csv('framingham.csv')"
   ]
  },
  {
   "cell_type": "code",
   "execution_count": null,
   "id": "c7e2ec92",
   "metadata": {},
   "outputs": [],
   "source": [
    "df.head()"
   ]
  },
  {
   "cell_type": "code",
   "execution_count": null,
   "id": "eec15132",
   "metadata": {},
   "outputs": [],
   "source": [
    "df.isnull().sum()"
   ]
  },
  {
   "cell_type": "code",
   "execution_count": null,
   "id": "86467452",
   "metadata": {},
   "outputs": [],
   "source": [
    "df.info()"
   ]
  },
  {
   "cell_type": "code",
   "execution_count": null,
   "id": "ce810667",
   "metadata": {},
   "outputs": [],
   "source": [
    "df.rename(columns={'TenYearCHD':'disease'},inplace=True)"
   ]
  },
  {
   "cell_type": "code",
   "execution_count": null,
   "id": "65e48576",
   "metadata": {},
   "outputs": [],
   "source": [
    "df.head(20)"
   ]
  },
  {
   "cell_type": "code",
   "execution_count": null,
   "id": "77d84f28",
   "metadata": {},
   "outputs": [],
   "source": [
    "fig,ax=plt.subplots(figsize=(15,10))\n",
    "sns.boxplot(data=df,ax=ax)"
   ]
  },
  {
   "cell_type": "code",
   "execution_count": null,
   "id": "cf2fbefc",
   "metadata": {},
   "outputs": [],
   "source": [
    "iqr=df['BMI'].quantile(0.75)*df['BMI'].quantile(0.25)\n",
    "low=df['BMI'].quantile(0.25)-1.5*iqr\n",
    "upp=df['BMI'].quantile(0.75)+1.5*iqr\n",
    "df1=df[(df['BMI']<upp)&(df['BMI']>low)]"
   ]
  },
  {
   "cell_type": "code",
   "execution_count": null,
   "id": "c23904c9",
   "metadata": {},
   "outputs": [],
   "source": [
    "fig,ax=plt.subplots(figsize=(15,10))\n",
    "sns.boxplot(data=df1,ax=ax)"
   ]
  },
  {
   "cell_type": "code",
   "execution_count": null,
   "id": "ff469cf1",
   "metadata": {},
   "outputs": [],
   "source": [
    "iqr=df['totChol'].quantile(0.75)*df['totChol'].quantile(0.25)\n",
    "low=df['totChol'].quantile(0.25)-1.5*iqr\n",
    "upp=df['totChol'].quantile(0.75)+1.5*iqr\n",
    "df1=df[(df['totChol']<upp)&(df['totChol']>low)]"
   ]
  },
  {
   "cell_type": "code",
   "execution_count": null,
   "id": "1cb08e31",
   "metadata": {},
   "outputs": [],
   "source": [
    "iqr=df['glucose'].quantile(0.75)*df['glucose'].quantile(0.25)\n",
    "low=df['glucose'].quantile(0.25)-1.5*iqr\n",
    "upp=df['glucose'].quantile(0.75)+1.5*iqr\n",
    "df1=df[(df['glucose']<upp)&(df['glucose']>low)]"
   ]
  },
  {
   "cell_type": "code",
   "execution_count": null,
   "id": "2ed93d94",
   "metadata": {},
   "outputs": [],
   "source": [
    "iqr=df['heartRate'].quantile(0.75)*df['heartRate'].quantile(0.25)\n",
    "low=df['heartRate'].quantile(0.25)-1.5*iqr\n",
    "upp=df['heartRate'].quantile(0.75)+1.5*iqr\n",
    "df1=df[(df['heartRate']<upp)&(df['heartRate']>low)]"
   ]
  },
  {
   "cell_type": "code",
   "execution_count": null,
   "id": "bb3eabbd",
   "metadata": {},
   "outputs": [],
   "source": [
    "iqr=df['sysBP'].quantile(0.75)*df['sysBP'].quantile(0.25)\n",
    "low=df['sysBP'].quantile(0.25)-1.5*iqr\n",
    "upp=df['sysBP'].quantile(0.75)+1.5*iqr\n",
    "df1=df[(df['sysBP']<upp)&(df['sysBP']>low)]"
   ]
  },
  {
   "cell_type": "code",
   "execution_count": null,
   "id": "6025d677",
   "metadata": {},
   "outputs": [],
   "source": [
    "iqr=df['diaBP'].quantile(0.75)*df['diaBP'].quantile(0.25)\n",
    "low=df['diaBP'].quantile(0.25)-1.5*iqr\n",
    "upp=df['diaBP'].quantile(0.75)+1.5*iqr\n",
    "df1=df[(df['diaBP']<upp)&(df['diaBP']>low)]"
   ]
  },
  {
   "cell_type": "code",
   "execution_count": null,
   "id": "57dd75eb",
   "metadata": {},
   "outputs": [],
   "source": [
    "fig,ax=plt.subplots(figsize=(15,10))\n",
    "sns.boxplot(data=df1,ax=ax)\n"
   ]
  },
  {
   "cell_type": "code",
   "execution_count": null,
   "id": "f420ef4c",
   "metadata": {},
   "outputs": [],
   "source": [
    "df1.head(20)"
   ]
  },
  {
   "cell_type": "code",
   "execution_count": null,
   "id": "8b481f7e",
   "metadata": {},
   "outputs": [],
   "source": [
    "Q1 = df['glucose'].quantile(0.25)\n",
    "Q3 = df['glucose'].quantile(0.75)\n",
    "IQR = Q3 - Q1\n",
    "\n",
    "# Define the lower and upper bounds\n",
    "lower_bound = Q1 - 1.5 * IQR\n",
    "upper_bound = Q3 + 1.5 * IQR\n",
    "\n",
    "# Identify and remove outliers\n",
    "cleaned_data = df[(df['glucose'] >= lower_bound)]"
   ]
  },
  {
   "cell_type": "code",
   "execution_count": null,
   "id": "612ba72e",
   "metadata": {},
   "outputs": [],
   "source": [
    "fig,ax=plt.subplots(figsize=(15,10))\n",
    "sns.boxplot(data=cleaned_data,ax=ax)\n"
   ]
  },
  {
   "cell_type": "code",
   "execution_count": null,
   "id": "443e21f3",
   "metadata": {},
   "outputs": [],
   "source": [
    "df['glucose']=df['glucose'].replace(lower_bound,df['glucose'].median())"
   ]
  },
  {
   "cell_type": "code",
   "execution_count": null,
   "id": "d236f246",
   "metadata": {},
   "outputs": [],
   "source": [
    "fig,ax=plt.subplots(figsize=(15,10))\n",
    "sns.boxplot(data=cleaned_data,ax=ax)\n"
   ]
  },
  {
   "cell_type": "code",
   "execution_count": null,
   "id": "c7523815",
   "metadata": {},
   "outputs": [],
   "source": [
    "iqr=df['heartRate'].quantile(0.75)*df['heartRate'].quantile(0.25)\n",
    "low=df['heartRate'].quantile(0.25)-1.5*iqr\n",
    "upp=df['heartRate'].quantile(0.75)+1.5*iqr\n",
    "print(low,upp)\n",
    "# df1=df[(df['heartRate']<upp)&(df['heartRate']>low)]"
   ]
  },
  {
   "cell_type": "code",
   "execution_count": null,
   "id": "a161a446",
   "metadata": {},
   "outputs": [],
   "source": [
    "df.head(20)"
   ]
  },
  {
   "cell_type": "code",
   "execution_count": null,
   "id": "6b31085d",
   "metadata": {},
   "outputs": [],
   "source": [
    "up=df['heartRate'].mean()+3*df['heartRate'].std()\n",
    "lo=df['heartRate'].mean()-3*df['heartRate'].std()\n",
    "print(up,lo)\n",
    "df.loc[(df['glucose']>up)|(df['glucose']<lo)]"
   ]
  },
  {
   "cell_type": "code",
   "execution_count": null,
   "id": "b817c23a",
   "metadata": {},
   "outputs": [],
   "source": [
    "# trimming means deleting the outliers\n",
    "# capping means changing the outliers according to the upper and lower limit\n",
    "df.loc[df['glucose']>up,'glucose']=up\n",
    "df.loc[df['glucose']<lo,'glucose']=lo\n",
    "\n"
   ]
  },
  {
   "cell_type": "code",
   "execution_count": null,
   "id": "f33d351f",
   "metadata": {},
   "outputs": [],
   "source": [
    "\n",
    "\n",
    "fig,ax=plt.subplots(figsize=(15,10))\n",
    "sns.boxplot(data=df,ax=ax)\n"
   ]
  },
  {
   "cell_type": "code",
   "execution_count": null,
   "id": "e7ac39af",
   "metadata": {},
   "outputs": [],
   "source": [
    "up=df['BMI'].mean()+3*df['BMI'].std()\n",
    "lo=df['BMI'].mean()-3*df['BMI'].std()\n",
    "df.loc[df['BMI']>up,'BMI']=up\n",
    "df.loc[df['BMI']<lo,'BMI']=lo"
   ]
  },
  {
   "cell_type": "code",
   "execution_count": null,
   "id": "5d28c82c",
   "metadata": {},
   "outputs": [],
   "source": [
    "\n",
    "\n",
    "up=df['totChol'].mean()+3*df['totChol'].std()\n",
    "lo=df['totChol'].mean()-3*df['totChol'].std()\n",
    "print(lo,up)\n",
    "df.loc[df['totChol']>up,'totChol']=up\n",
    "df.loc[df['totChol']<lo,'totChol']=lo\n"
   ]
  },
  {
   "cell_type": "code",
   "execution_count": null,
   "id": "8d46d99d",
   "metadata": {},
   "outputs": [],
   "source": [
    "\n",
    "\n",
    "up=df['sysBP'].mean()+3*df['sysBP'].std()\n",
    "lo=df['sysBP'].mean()-3*df['sysBP'].std()\n",
    "df.loc[df['sysBP']>up,'sysBP']=up\n",
    "df.loc[df['sysBP']<lo,'sysBP']=lo\n"
   ]
  },
  {
   "cell_type": "code",
   "execution_count": null,
   "id": "94c36fbc",
   "metadata": {},
   "outputs": [],
   "source": [
    "\n",
    "\n",
    "up=df['diaBP'].mean()+3*df['diaBP'].std()\n",
    "lo=df['diaBP'].mean()-3*df['diaBP'].std()\n",
    "df.loc[df['diaBP']>up,'diaBP']=up\n",
    "df.loc[df['diaBP']<lo,'diaBP']=lo\n"
   ]
  },
  {
   "cell_type": "code",
   "execution_count": null,
   "id": "2fadc9ab",
   "metadata": {},
   "outputs": [],
   "source": [
    "\n",
    "\n",
    "fig,ax=plt.subplots(figsize=(15,10))\n",
    "sns.boxplot(data=df,ax=ax)\n"
   ]
  },
  {
   "cell_type": "code",
   "execution_count": null,
   "id": "b063d2a2",
   "metadata": {},
   "outputs": [],
   "source": [
    "sns.boxplot(df['glucose'])"
   ]
  },
  {
   "cell_type": "code",
   "execution_count": null,
   "id": "25404fc6",
   "metadata": {},
   "outputs": [],
   "source": [
    "df.head()"
   ]
  },
  {
   "cell_type": "code",
   "execution_count": null,
   "id": "9c0b1fd9",
   "metadata": {},
   "outputs": [],
   "source": [
    "sns.scatterplot(x='diaBP',y='sysBP',data=df)\n",
    "df.dropna()"
   ]
  },
  {
   "cell_type": "code",
   "execution_count": null,
   "id": "a8ce4762",
   "metadata": {},
   "outputs": [],
   "source": [
    "df=pd.read_csv('framingham.csv')\n"
   ]
  },
  {
   "cell_type": "code",
   "execution_count": null,
   "id": "f60d7b7e",
   "metadata": {},
   "outputs": [],
   "source": [
    "df.head()\n",
    "df.dropna()\n",
    "df.rename(columns={'TenYearCHD':'disease'})"
   ]
  },
  {
   "cell_type": "code",
   "execution_count": null,
   "id": "f6295127",
   "metadata": {},
   "outputs": [],
   "source": [
    "df1=df.dropna()"
   ]
  },
  {
   "cell_type": "code",
   "execution_count": null,
   "id": "0ac8dcb7",
   "metadata": {},
   "outputs": [],
   "source": [
    "df1.head()\n",
    "# df1.isnull().sum()"
   ]
  },
  {
   "cell_type": "code",
   "execution_count": null,
   "id": "41b3efe5",
   "metadata": {},
   "outputs": [],
   "source": [
    "X=df1.drop(columns='TenYearCHD')\n",
    "y=df1['TenYearCHD']"
   ]
  },
  {
   "cell_type": "code",
   "execution_count": null,
   "id": "ee240efe",
   "metadata": {},
   "outputs": [],
   "source": [
    "from sklearn.model_selection import train_test_split\n",
    "X_train,X_test,y_train,y_test=train_test_split(X,y,test_size=0.25)"
   ]
  },
  {
   "cell_type": "code",
   "execution_count": null,
   "id": "caf10a50",
   "metadata": {},
   "outputs": [],
   "source": [
    "from sklearn.linear_model import LogisticRegression\n",
    "lo=LogisticRegression()\n",
    "lo.fit(X_train ,y_train)"
   ]
  },
  {
   "cell_type": "code",
   "execution_count": null,
   "id": "bd494e41",
   "metadata": {},
   "outputs": [],
   "source": [
    "pred=lo.predict(X_test)"
   ]
  },
  {
   "cell_type": "code",
   "execution_count": null,
   "id": "b11c9052",
   "metadata": {},
   "outputs": [],
   "source": [
    "from sklearn.metrics import mean_absolute_error,mean_squared_error,r2_score,accuracy_score\n",
    "print(mean_squared_error(pred,y_test))"
   ]
  },
  {
   "cell_type": "code",
   "execution_count": null,
   "id": "cddf0c45",
   "metadata": {},
   "outputs": [],
   "source": [
    "print(accuracy_score(y_test,pred))"
   ]
  },
  {
   "cell_type": "code",
   "execution_count": null,
   "id": "1a0c3dd7",
   "metadata": {},
   "outputs": [],
   "source": []
  }
 ],
 "metadata": {
  "kernelspec": {
   "display_name": "ml",
   "language": "python",
   "name": "ml"
  },
  "language_info": {
   "codemirror_mode": {
    "name": "ipython",
    "version": 3
   },
   "file_extension": ".py",
   "mimetype": "text/x-python",
   "name": "python",
   "nbconvert_exporter": "python",
   "pygments_lexer": "ipython3",
   "version": "3.12.4"
  }
 },
 "nbformat": 4,
 "nbformat_minor": 5
}
